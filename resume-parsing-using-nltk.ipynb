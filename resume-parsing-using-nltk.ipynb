{
 "cells": [
  {
   "cell_type": "code",
   "execution_count": 2,
   "id": "abf324dc",
   "metadata": {},
   "outputs": [
    {
     "name": "stdout",
     "output_type": "stream",
     "text": [
      "Collecting pdfplumber\n",
      "  Downloading pdfplumber-0.11.4-py3-none-any.whl.metadata (41 kB)\n",
      "Collecting pdfminer.six==20231228 (from pdfplumber)\n",
      "  Downloading pdfminer.six-20231228-py3-none-any.whl.metadata (4.2 kB)\n",
      "Requirement already satisfied: Pillow>=9.1 in c:\\users\\admin\\anaconda3\\lib\\site-packages (from pdfplumber) (9.2.0)\n",
      "Collecting pypdfium2>=4.18.0 (from pdfplumber)\n",
      "  Downloading pypdfium2-4.30.1-py3-none-win_amd64.whl.metadata (48 kB)\n",
      "Requirement already satisfied: charset-normalizer>=2.0.0 in c:\\users\\admin\\anaconda3\\lib\\site-packages (from pdfminer.six==20231228->pdfplumber) (2.0.4)\n",
      "Requirement already satisfied: cryptography>=36.0.0 in c:\\users\\admin\\anaconda3\\lib\\site-packages (from pdfminer.six==20231228->pdfplumber) (37.0.1)\n",
      "Requirement already satisfied: cffi>=1.12 in c:\\users\\admin\\anaconda3\\lib\\site-packages (from cryptography>=36.0.0->pdfminer.six==20231228->pdfplumber) (1.15.1)\n",
      "Requirement already satisfied: pycparser in c:\\users\\admin\\anaconda3\\lib\\site-packages (from cffi>=1.12->cryptography>=36.0.0->pdfminer.six==20231228->pdfplumber) (2.21)\n",
      "Downloading pdfplumber-0.11.4-py3-none-any.whl (59 kB)\n",
      "Downloading pdfminer.six-20231228-py3-none-any.whl (5.6 MB)\n",
      "   ---------------------------------------- 5.6/5.6 MB 15.6 MB/s eta 0:00:00\n",
      "Downloading pypdfium2-4.30.1-py3-none-win_amd64.whl (3.0 MB)\n",
      "   ---------------------------------------- 3.0/3.0 MB 15.7 MB/s eta 0:00:00\n",
      "Installing collected packages: pypdfium2, pdfminer.six, pdfplumber\n",
      "Successfully installed pdfminer.six-20231228 pdfplumber-0.11.4 pypdfium2-4.30.1\n"
     ]
    }
   ],
   "source": [
    "# !pip install pdfplumber"
   ]
  },
  {
   "cell_type": "code",
   "execution_count": 3,
   "id": "9cf632f4",
   "metadata": {},
   "outputs": [],
   "source": [
    "import nltk\n",
    "import re\n",
    "import pdfplumber"
   ]
  },
  {
   "cell_type": "code",
   "execution_count": 15,
   "id": "cdfef310",
   "metadata": {},
   "outputs": [
    {
     "name": "stderr",
     "output_type": "stream",
     "text": [
      "[nltk_data] Downloading package stopwords to\n",
      "[nltk_data]     C:\\Users\\admin\\AppData\\Roaming\\nltk_data...\n",
      "[nltk_data]   Package stopwords is already up-to-date!\n",
      "[nltk_data] Downloading package averaged_perceptron_tagger to\n",
      "[nltk_data]     C:\\Users\\admin\\AppData\\Roaming\\nltk_data...\n",
      "[nltk_data]   Unzipping taggers\\averaged_perceptron_tagger.zip.\n"
     ]
    },
    {
     "data": {
      "text/plain": [
       "True"
      ]
     },
     "execution_count": 15,
     "metadata": {},
     "output_type": "execute_result"
    }
   ],
   "source": [
    "# Download NLTK stopwords (required for preprocessing)\n",
    "nltk.download('stopwords')\n",
    "from nltk.corpus import stopwords\n",
    "# Download the 'averaged_perceptron_tagger' resource\n",
    "nltk.download('averaged_perceptron_tagger')"
   ]
  },
  {
   "cell_type": "code",
   "execution_count": 5,
   "id": "04d744cd",
   "metadata": {},
   "outputs": [],
   "source": [
    "# Define skills and education keywords\n",
    "SKILLS = [\n",
    "    \"Python\", \"Java\", \"C++\", \"SQL\", \"Machine Learning\", \"Data Analysis\",\n",
    "    \"Django\", \"Flask\", \"HTML\", \"CSS\", \"React\", \"Node.js\", \"Agile\", \"Git\"\n",
    "]\n",
    "EDUCATION_KEYWORDS = [\n",
    "    \"Bachelor\", \"Master\", \"B.Tech\", \"M.Tech\", \"B.Sc\", \"M.Sc\", \"PhD\", \n",
    "    \"High School\", \"Secondary School\", \"Diploma\"\n",
    "]\n"
   ]
  },
  {
   "cell_type": "code",
   "execution_count": 6,
   "id": "e94f1657",
   "metadata": {},
   "outputs": [],
   "source": [
    "# Function to extract text from a PDF file\n",
    "def extract_text_from_pdf(pdf_path):\n",
    "    with pdfplumber.open(pdf_path) as pdf:\n",
    "        text = \"\"\n",
    "        for page in pdf.pages:\n",
    "            text += page.extract_text()\n",
    "    return text"
   ]
  },
  {
   "cell_type": "code",
   "execution_count": 7,
   "id": "873bc7ad",
   "metadata": {},
   "outputs": [],
   "source": [
    "# Function to preprocess text\n",
    "def preprocess_text(text):\n",
    "    stop_words = set(stopwords.words('english'))\n",
    "    words = nltk.word_tokenize(text)\n",
    "    filtered_words = [word for word in words if word.lower() not in stop_words and word.isalnum()]\n",
    "    return \" \".join(filtered_words)"
   ]
  },
  {
   "cell_type": "code",
   "execution_count": 8,
   "id": "8d7f744d",
   "metadata": {},
   "outputs": [],
   "source": [
    "# Function to extract email\n",
    "def extract_email(text):\n",
    "    email_pattern = r'[a-zA-Z0-9_.+-]+@[a-zA-Z0-9-]+\\.[a-zA-Z0-9-.]+'\n",
    "    email = re.findall(email_pattern, text)\n",
    "    return email[0] if email else None"
   ]
  },
  {
   "cell_type": "code",
   "execution_count": 9,
   "id": "00c38a12",
   "metadata": {},
   "outputs": [],
   "source": [
    "# Function to extract phone number\n",
    "def extract_phone_number(text):\n",
    "    phone_pattern = r'\\b\\d{10}\\b|\\+?\\d{1,4}[-.\\s]?\\(?\\d{1,4}\\)?[-.\\s]?\\d{1,4}[-.\\s]?\\d{1,9}'\n",
    "    phone = re.findall(phone_pattern, text)\n",
    "    return phone[0] if phone else None"
   ]
  },
  {
   "cell_type": "code",
   "execution_count": 10,
   "id": "283c150a",
   "metadata": {},
   "outputs": [],
   "source": [
    "# Function to extract skills\n",
    "def extract_skills(text):\n",
    "    skills_found = [skill for skill in SKILLS if skill.lower() in text.lower()]\n",
    "    return skills_found"
   ]
  },
  {
   "cell_type": "code",
   "execution_count": 11,
   "id": "0a17a00f",
   "metadata": {},
   "outputs": [],
   "source": [
    "# Function to extract education details\n",
    "def extract_education(text):\n",
    "    education_lines = []\n",
    "    for line in text.split('\\n'):\n",
    "        if any(keyword in line for keyword in EDUCATION_KEYWORDS):\n",
    "            education_lines.append(line.strip())\n",
    "    return education_lines"
   ]
  },
  {
   "cell_type": "code",
   "execution_count": 12,
   "id": "6f707ce2",
   "metadata": {},
   "outputs": [],
   "source": [
    "# Function to extract name\n",
    "def extract_name(text):\n",
    "    tokens = nltk.word_tokenize(text)\n",
    "    tagged_tokens = nltk.pos_tag(tokens)\n",
    "    for i, (word, tag) in enumerate(tagged_tokens):\n",
    "        if tag == \"NNP\":  # Proper noun\n",
    "            return word\n",
    "    return None"
   ]
  },
  {
   "cell_type": "code",
   "execution_count": 18,
   "id": "5139117c",
   "metadata": {},
   "outputs": [],
   "source": [
    "# Main function to parse resume\n",
    "def parse_resume(pdf_path):\n",
    "    raw_text = extract_text_from_pdf(pdf_path)\n",
    "    clean_text = preprocess_text(raw_text)\n",
    "\n",
    "    name = extract_name(clean_text)\n",
    "    email = extract_email(raw_text)\n",
    "    phone = extract_phone_number(raw_text)\n",
    "    skills = extract_skills(clean_text)\n",
    "    #education = extract_education(raw_text)\n",
    "\n",
    "    return {\n",
    "        \"Name\": name,\n",
    "        \"Email\": email,\n",
    "        \"Phone\": phone,\n",
    "        \"Skills\": skills,\n",
    "        #\"Education\": education,\n",
    "    }"
   ]
  },
  {
   "cell_type": "code",
   "execution_count": null,
   "id": "a94d3c89",
   "metadata": {},
   "outputs": [],
   "source": [
    "# Example usage\n",
    "if __name__ == \"__main__\":\n",
    "    pdf_path = \"Rahul_K_Resume.pdf\"  # Replace with the path to your resume\n",
    "    parsed_data = parse_resume(pdf_path)\n",
    "    for key, value in parsed_data.items():\n",
    "        print(f\"{key}: {value}\")"
   ]
  },
  {
   "cell_type": "code",
   "execution_count": null,
   "id": "75825f4b",
   "metadata": {},
   "outputs": [],
   "source": []
  }
 ],
 "metadata": {
  "kernelspec": {
   "display_name": "Python 3 (ipykernel)",
   "language": "python",
   "name": "python3"
  },
  "language_info": {
   "codemirror_mode": {
    "name": "ipython",
    "version": 3
   },
   "file_extension": ".py",
   "mimetype": "text/x-python",
   "name": "python",
   "nbconvert_exporter": "python",
   "pygments_lexer": "ipython3",
   "version": "3.9.13"
  }
 },
 "nbformat": 4,
 "nbformat_minor": 5
}
